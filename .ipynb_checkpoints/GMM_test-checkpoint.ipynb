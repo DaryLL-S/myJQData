{
 "cells": [
  {
   "cell_type": "code",
   "execution_count": 1,
   "id": "44b1120d",
   "metadata": {},
   "outputs": [],
   "source": [
    "import imageio\n",
    "import matplotlib.animation as ani\n",
    "import matplotlib.cm as cmx\n",
    "import matplotlib.colors as colors\n",
    "import matplotlib.pyplot as plt\n",
    "import numpy as np\n",
    "\n",
    "from matplotlib.patches import Ellipse\n",
    "import matplotlib.pyplot as plt\n",
    "import pandas as pd\n",
    "import seaborn as sns\n",
    "from PIL import Image\n",
    "from sklearn import datasets\n",
    "from sklearn.cluster import KMeans"
   ]
  },
  {
   "cell_type": "code",
   "execution_count": 2,
   "id": "e0a0d2d2",
   "metadata": {},
   "outputs": [
    {
     "data": {
      "text/plain": [
       "array([[5.1, 3.5, 1.4, 0.2],\n",
       "       [4.9, 3. , 1.4, 0.2],\n",
       "       [4.7, 3.2, 1.3, 0.2],\n",
       "       [4.6, 3.1, 1.5, 0.2],\n",
       "       [5. , 3.6, 1.4, 0.2],\n",
       "       [5.4, 3.9, 1.7, 0.4],\n",
       "       [4.6, 3.4, 1.4, 0.3],\n",
       "       [5. , 3.4, 1.5, 0.2],\n",
       "       [4.4, 2.9, 1.4, 0.2],\n",
       "       [4.9, 3.1, 1.5, 0.1],\n",
       "       [5.4, 3.7, 1.5, 0.2],\n",
       "       [4.8, 3.4, 1.6, 0.2],\n",
       "       [4.8, 3. , 1.4, 0.1],\n",
       "       [4.3, 3. , 1.1, 0.1],\n",
       "       [5.8, 4. , 1.2, 0.2],\n",
       "       [5.7, 4.4, 1.5, 0.4],\n",
       "       [5.4, 3.9, 1.3, 0.4],\n",
       "       [5.1, 3.5, 1.4, 0.3],\n",
       "       [5.7, 3.8, 1.7, 0.3],\n",
       "       [5.1, 3.8, 1.5, 0.3],\n",
       "       [5.4, 3.4, 1.7, 0.2],\n",
       "       [5.1, 3.7, 1.5, 0.4],\n",
       "       [4.6, 3.6, 1. , 0.2],\n",
       "       [5.1, 3.3, 1.7, 0.5],\n",
       "       [4.8, 3.4, 1.9, 0.2],\n",
       "       [5. , 3. , 1.6, 0.2],\n",
       "       [5. , 3.4, 1.6, 0.4],\n",
       "       [5.2, 3.5, 1.5, 0.2],\n",
       "       [5.2, 3.4, 1.4, 0.2],\n",
       "       [4.7, 3.2, 1.6, 0.2],\n",
       "       [4.8, 3.1, 1.6, 0.2],\n",
       "       [5.4, 3.4, 1.5, 0.4],\n",
       "       [5.2, 4.1, 1.5, 0.1],\n",
       "       [5.5, 4.2, 1.4, 0.2],\n",
       "       [4.9, 3.1, 1.5, 0.2],\n",
       "       [5. , 3.2, 1.2, 0.2],\n",
       "       [5.5, 3.5, 1.3, 0.2],\n",
       "       [4.9, 3.6, 1.4, 0.1],\n",
       "       [4.4, 3. , 1.3, 0.2],\n",
       "       [5.1, 3.4, 1.5, 0.2],\n",
       "       [5. , 3.5, 1.3, 0.3],\n",
       "       [4.5, 2.3, 1.3, 0.3],\n",
       "       [4.4, 3.2, 1.3, 0.2],\n",
       "       [5. , 3.5, 1.6, 0.6],\n",
       "       [5.1, 3.8, 1.9, 0.4],\n",
       "       [4.8, 3. , 1.4, 0.3],\n",
       "       [5.1, 3.8, 1.6, 0.2],\n",
       "       [4.6, 3.2, 1.4, 0.2],\n",
       "       [5.3, 3.7, 1.5, 0.2],\n",
       "       [5. , 3.3, 1.4, 0.2],\n",
       "       [7. , 3.2, 4.7, 1.4],\n",
       "       [6.4, 3.2, 4.5, 1.5],\n",
       "       [6.9, 3.1, 4.9, 1.5],\n",
       "       [5.5, 2.3, 4. , 1.3],\n",
       "       [6.5, 2.8, 4.6, 1.5],\n",
       "       [5.7, 2.8, 4.5, 1.3],\n",
       "       [6.3, 3.3, 4.7, 1.6],\n",
       "       [4.9, 2.4, 3.3, 1. ],\n",
       "       [6.6, 2.9, 4.6, 1.3],\n",
       "       [5.2, 2.7, 3.9, 1.4],\n",
       "       [5. , 2. , 3.5, 1. ],\n",
       "       [5.9, 3. , 4.2, 1.5],\n",
       "       [6. , 2.2, 4. , 1. ],\n",
       "       [6.1, 2.9, 4.7, 1.4],\n",
       "       [5.6, 2.9, 3.6, 1.3],\n",
       "       [6.7, 3.1, 4.4, 1.4],\n",
       "       [5.6, 3. , 4.5, 1.5],\n",
       "       [5.8, 2.7, 4.1, 1. ],\n",
       "       [6.2, 2.2, 4.5, 1.5],\n",
       "       [5.6, 2.5, 3.9, 1.1],\n",
       "       [5.9, 3.2, 4.8, 1.8],\n",
       "       [6.1, 2.8, 4. , 1.3],\n",
       "       [6.3, 2.5, 4.9, 1.5],\n",
       "       [6.1, 2.8, 4.7, 1.2],\n",
       "       [6.4, 2.9, 4.3, 1.3],\n",
       "       [6.6, 3. , 4.4, 1.4],\n",
       "       [6.8, 2.8, 4.8, 1.4],\n",
       "       [6.7, 3. , 5. , 1.7],\n",
       "       [6. , 2.9, 4.5, 1.5],\n",
       "       [5.7, 2.6, 3.5, 1. ],\n",
       "       [5.5, 2.4, 3.8, 1.1],\n",
       "       [5.5, 2.4, 3.7, 1. ],\n",
       "       [5.8, 2.7, 3.9, 1.2],\n",
       "       [6. , 2.7, 5.1, 1.6],\n",
       "       [5.4, 3. , 4.5, 1.5],\n",
       "       [6. , 3.4, 4.5, 1.6],\n",
       "       [6.7, 3.1, 4.7, 1.5],\n",
       "       [6.3, 2.3, 4.4, 1.3],\n",
       "       [5.6, 3. , 4.1, 1.3],\n",
       "       [5.5, 2.5, 4. , 1.3],\n",
       "       [5.5, 2.6, 4.4, 1.2],\n",
       "       [6.1, 3. , 4.6, 1.4],\n",
       "       [5.8, 2.6, 4. , 1.2],\n",
       "       [5. , 2.3, 3.3, 1. ],\n",
       "       [5.6, 2.7, 4.2, 1.3],\n",
       "       [5.7, 3. , 4.2, 1.2],\n",
       "       [5.7, 2.9, 4.2, 1.3],\n",
       "       [6.2, 2.9, 4.3, 1.3],\n",
       "       [5.1, 2.5, 3. , 1.1],\n",
       "       [5.7, 2.8, 4.1, 1.3],\n",
       "       [6.3, 3.3, 6. , 2.5],\n",
       "       [5.8, 2.7, 5.1, 1.9],\n",
       "       [7.1, 3. , 5.9, 2.1],\n",
       "       [6.3, 2.9, 5.6, 1.8],\n",
       "       [6.5, 3. , 5.8, 2.2],\n",
       "       [7.6, 3. , 6.6, 2.1],\n",
       "       [4.9, 2.5, 4.5, 1.7],\n",
       "       [7.3, 2.9, 6.3, 1.8],\n",
       "       [6.7, 2.5, 5.8, 1.8],\n",
       "       [7.2, 3.6, 6.1, 2.5],\n",
       "       [6.5, 3.2, 5.1, 2. ],\n",
       "       [6.4, 2.7, 5.3, 1.9],\n",
       "       [6.8, 3. , 5.5, 2.1],\n",
       "       [5.7, 2.5, 5. , 2. ],\n",
       "       [5.8, 2.8, 5.1, 2.4],\n",
       "       [6.4, 3.2, 5.3, 2.3],\n",
       "       [6.5, 3. , 5.5, 1.8],\n",
       "       [7.7, 3.8, 6.7, 2.2],\n",
       "       [7.7, 2.6, 6.9, 2.3],\n",
       "       [6. , 2.2, 5. , 1.5],\n",
       "       [6.9, 3.2, 5.7, 2.3],\n",
       "       [5.6, 2.8, 4.9, 2. ],\n",
       "       [7.7, 2.8, 6.7, 2. ],\n",
       "       [6.3, 2.7, 4.9, 1.8],\n",
       "       [6.7, 3.3, 5.7, 2.1],\n",
       "       [7.2, 3.2, 6. , 1.8],\n",
       "       [6.2, 2.8, 4.8, 1.8],\n",
       "       [6.1, 3. , 4.9, 1.8],\n",
       "       [6.4, 2.8, 5.6, 2.1],\n",
       "       [7.2, 3. , 5.8, 1.6],\n",
       "       [7.4, 2.8, 6.1, 1.9],\n",
       "       [7.9, 3.8, 6.4, 2. ],\n",
       "       [6.4, 2.8, 5.6, 2.2],\n",
       "       [6.3, 2.8, 5.1, 1.5],\n",
       "       [6.1, 2.6, 5.6, 1.4],\n",
       "       [7.7, 3. , 6.1, 2.3],\n",
       "       [6.3, 3.4, 5.6, 2.4],\n",
       "       [6.4, 3.1, 5.5, 1.8],\n",
       "       [6. , 3. , 4.8, 1.8],\n",
       "       [6.9, 3.1, 5.4, 2.1],\n",
       "       [6.7, 3.1, 5.6, 2.4],\n",
       "       [6.9, 3.1, 5.1, 2.3],\n",
       "       [5.8, 2.7, 5.1, 1.9],\n",
       "       [6.8, 3.2, 5.9, 2.3],\n",
       "       [6.7, 3.3, 5.7, 2.5],\n",
       "       [6.7, 3. , 5.2, 2.3],\n",
       "       [6.3, 2.5, 5. , 1.9],\n",
       "       [6.5, 3. , 5.2, 2. ],\n",
       "       [6.2, 3.4, 5.4, 2.3],\n",
       "       [5.9, 3. , 5.1, 1.8]])"
      ]
     },
     "execution_count": 2,
     "metadata": {},
     "output_type": "execute_result"
    }
   ],
   "source": [
    "iris = datasets.load_iris()\n",
    "X = iris.data"
   ]
  },
  {
   "cell_type": "code",
   "execution_count": 20,
   "id": "ed407d30",
   "metadata": {},
   "outputs": [
    {
     "name": "stderr",
     "output_type": "stream",
     "text": [
      "C:\\Users\\DaryLLS\\.conda\\envs\\env8\\lib\\site-packages\\seaborn\\axisgrid.py:337: UserWarning: The `size` parameter has been renamed to `height`; please update your code.\n",
      "  warnings.warn(msg, UserWarning)\n"
     ]
    },
    {
     "data": {
      "text/plain": [
       "<seaborn.axisgrid.FacetGrid at 0x132ac2e1a30>"
      ]
     },
     "execution_count": 20,
     "metadata": {},
     "output_type": "execute_result"
    },
    {
     "data": {
      "image/png": "[encoded data removed]",
      "text/plain": [
       "<Figure size 804.75x720 with 1 Axes>"
      ]
     },
     "metadata": {
      "needs_background": "light"
     },
     "output_type": "display_data"
    }
   ],
   "source": [
    "from sklearn.datasets import load_iris\n",
    "iris_data = load_iris()\n",
    "iris = pd.DataFrame(iris_data['data'], columns=iris_data['feature_names'])\n",
    "iris = pd.merge(iris, pd.DataFrame(iris_data['target'], columns=['species']), left_index=True, right_index=True)\n",
    "labels = dict(zip([0,1,2], iris_data['target_names']))\n",
    "iris['species'] = iris['species'].apply(lambda x: labels[x])\n",
    "\n",
    "sns.FacetGrid(iris,hue='species' ,size=10) \\\n",
    "    .map(plt.scatter, \"sepal length (cm)\", \"sepal width (cm)\") \\\n",
    "    .add_legend()"
   ]
  },
  {
   "cell_type": "code",
   "execution_count": 5,
   "id": "c90677f0",
   "metadata": {},
   "outputs": [],
   "source": [
    "def gaussian(X, mu, cov):\n",
    "    n = X.shape[1]\n",
    "    diff = (X - mu).T\n",
    "    return np.diagonal(1 / ((2 * np.pi) ** (n / 2) * np.linalg.det(cov) ** 0.5) * np.exp(-0.5 * np.dot(np.dot(diff.T, np.linalg.inv(cov)), diff))).reshape(-1, 1)"
   ]
  },
  {
   "cell_type": "code",
   "execution_count": 6,
   "id": "8f926484",
   "metadata": {},
   "outputs": [
    {
     "data": {
      "text/plain": [
       "array([[0.00159853],\n",
       "       [0.00481869],\n",
       "       [0.00276259],\n",
       "       [0.0014309 ],\n",
       "       [0.00143998]])"
      ]
     },
     "execution_count": 6,
     "metadata": {},
     "output_type": "execute_result"
    }
   ],
   "source": [
    "x0 = np.array([[0.05, 1.413, 0.212], [0.85, -0.3, 1.11], [11.1, 0.4, 1.5], [0.27, 0.12, 1.44], [88, 12.33, 1.44]])\n",
    "mu = np.mean(x0, axis=0)\n",
    "cov = np.dot((x0 - mu).T, x0 - mu) / (x0.shape[0] - 1)\n",
    "\n",
    "y = gaussian(x0, mu=mu, cov=cov)\n",
    "y"
   ]
  },
  {
   "cell_type": "code",
   "execution_count": 7,
   "id": "c9b4562d",
   "metadata": {},
   "outputs": [],
   "source": [
    "def initialize_clusters(X, n_clusters):\n",
    "    clusters = []\n",
    "    idx = np.arange(X.shape[0])\n",
    "    \n",
    "    # We use the KMeans centroids to initialise the GMM\n",
    "    \n",
    "    kmeans = KMeans(n_clusters).fit(X)\n",
    "    mu_k = kmeans.cluster_centers_\n",
    "    \n",
    "    for i in range(n_clusters):\n",
    "        clusters.append({\n",
    "            'pi_k': 1.0 / n_clusters,\n",
    "            'mu_k': mu_k[i],\n",
    "            'cov_k': np.identity(X.shape[1], dtype=np.float64)\n",
    "        })\n",
    "        \n",
    "    return clusters"
   ]
  },
  {
   "cell_type": "code",
   "execution_count": 8,
   "id": "c212523f",
   "metadata": {},
   "outputs": [],
   "source": [
    "def expectation_step(X, clusters):\n",
    "    global gamma_nk, totals\n",
    "    N = X.shape[0]\n",
    "    K = len(clusters)\n",
    "    totals = np.zeros((N, 1), dtype=np.float64)\n",
    "    gamma_nk = np.zeros((N, K), dtype=np.float64)\n",
    "    \n",
    "    for k, cluster in enumerate(clusters):\n",
    "        pi_k = cluster['pi_k']\n",
    "        mu_k = cluster['mu_k']\n",
    "        cov_k = cluster['cov_k']\n",
    "    \n",
    "        gamma_nk[:, k] = (pi_k * gaussian(X, mu_k, cov_k)).ravel()\n",
    "    \n",
    "    totals = np.sum(gamma_nk, 1)\n",
    "    gamma_nk /= np.expand_dims(totals, 1)"
   ]
  },
  {
   "cell_type": "code",
   "execution_count": 9,
   "id": "aeac9eea",
   "metadata": {},
   "outputs": [],
   "source": [
    "def maximization_step(X, clusters):\n",
    "    global gamma_nk\n",
    "    N = float(X.shape[0])\n",
    "  \n",
    "    for k, cluster in enumerate(clusters):\n",
    "        gamma_k = np.expand_dims(gamma_nk[:, k], 1)\n",
    "        N_k = np.sum(gamma_k, axis=0)\n",
    "        \n",
    "        pi_k = N_k / N\n",
    "        mu_k = np.sum(gamma_k * X, axis=0) / N_k\n",
    "        cov_k = (gamma_k * (X - mu_k)).T @ (X - mu_k) / N_k\n",
    "        \n",
    "        cluster['pi_k'] = pi_k\n",
    "        cluster['mu_k'] = mu_k\n",
    "        cluster['cov_k'] = cov_k"
   ]
  },
  {
   "cell_type": "code",
   "execution_count": 10,
   "id": "c4a5f13b",
   "metadata": {},
   "outputs": [],
   "source": [
    "def get_likelihood(X, clusters):\n",
    "    global gamma_nk, totals\n",
    "    sample_likelihoods = np.log(totals)\n",
    "    return np.sum(sample_likelihoods), sample_likelihoods"
   ]
  },
  {
   "cell_type": "code",
   "execution_count": 11,
   "id": "5dde9697",
   "metadata": {},
   "outputs": [],
   "source": [
    "def train_gmm(X, n_clusters, n_epochs):\n",
    "    clusters = initialize_clusters(X, n_clusters)\n",
    "    likelihoods = np.zeros((n_epochs, ))\n",
    "    scores = np.zeros((X.shape[0], n_clusters))\n",
    "    history = []\n",
    "\n",
    "    for i in range(n_epochs):\n",
    "        clusters_snapshot = []\n",
    "        \n",
    "        # This is just for our later use in the graphs\n",
    "        for cluster in clusters:\n",
    "            clusters_snapshot.append({\n",
    "                'mu_k': cluster['mu_k'].copy(),\n",
    "                'cov_k': cluster['cov_k'].copy()\n",
    "            })\n",
    "            \n",
    "        history.append(clusters_snapshot)\n",
    "      \n",
    "        expectation_step(X, clusters)\n",
    "        maximization_step(X, clusters)\n",
    "\n",
    "        likelihood, sample_likelihoods = get_likelihood(X, clusters)\n",
    "        likelihoods[i] = likelihood\n",
    "\n",
    "        print('Epoch: ', i + 1, 'Likelihood: ', likelihood)\n",
    "\n",
    "    scores = np.log(gamma_nk)\n",
    "    \n",
    "    return clusters, likelihoods, scores, sample_likelihoods, history"
   ]
  },
  {
   "cell_type": "code",
   "execution_count": 12,
   "id": "44f8a5cc",
   "metadata": {},
   "outputs": [
    {
     "name": "stdout",
     "output_type": "stream",
     "text": [
      "Epoch:  1 Likelihood:  -727.7880991223876\n",
      "Epoch:  2 Likelihood:  -229.3310206629975\n",
      "Epoch:  3 Likelihood:  -199.74812877963763\n",
      "Epoch:  4 Likelihood:  -195.7388852032258\n",
      "Epoch:  5 Likelihood:  -192.3961010234296\n",
      "Epoch:  6 Likelihood:  -189.99480255980583\n",
      "Epoch:  7 Likelihood:  -188.36696982597584\n",
      "Epoch:  8 Likelihood:  -187.12218440393468\n",
      "Epoch:  9 Likelihood:  -185.9688827396132\n",
      "Epoch:  10 Likelihood:  -184.9027408554704\n",
      "Epoch:  11 Likelihood:  -183.9615964160235\n",
      "Epoch:  12 Likelihood:  -183.12299960946618\n",
      "Epoch:  13 Likelihood:  -182.42175149358587\n",
      "Epoch:  14 Likelihood:  -181.85314289768124\n",
      "Epoch:  15 Likelihood:  -181.27453302608757\n",
      "Epoch:  16 Likelihood:  -180.6705940238215\n",
      "Epoch:  17 Likelihood:  -180.34032123839046\n",
      "Epoch:  18 Likelihood:  -180.23332341934025\n",
      "Epoch:  19 Likelihood:  -180.20041209371252\n",
      "Epoch:  20 Likelihood:  -180.19017245247886\n",
      "Epoch:  21 Likelihood:  -180.18696259547227\n",
      "Epoch:  22 Likelihood:  -180.18594920021084\n",
      "Epoch:  23 Likelihood:  -180.18562756299488\n",
      "Epoch:  24 Likelihood:  -180.1855251433796\n",
      "Epoch:  25 Likelihood:  -180.18549246812682\n",
      "Epoch:  26 Likelihood:  -180.1854820327567\n",
      "Epoch:  27 Likelihood:  -180.18547869814938\n",
      "Epoch:  28 Likelihood:  -180.18547763224763\n",
      "Epoch:  29 Likelihood:  -180.18547729147537\n",
      "Epoch:  30 Likelihood:  -180.18547718251907\n",
      "Epoch:  31 Likelihood:  -180.18547714768016\n",
      "Epoch:  32 Likelihood:  -180.18547713654016\n",
      "Epoch:  33 Likelihood:  -180.18547713297795\n",
      "Epoch:  34 Likelihood:  -180.18547713183884\n",
      "Epoch:  35 Likelihood:  -180.18547713147464\n",
      "Epoch:  36 Likelihood:  -180.18547713135814\n",
      "Epoch:  37 Likelihood:  -180.18547713132088\n",
      "Epoch:  38 Likelihood:  -180.18547713130906\n",
      "Epoch:  39 Likelihood:  -180.18547713130525\n",
      "Epoch:  40 Likelihood:  -180.18547713130405\n",
      "Epoch:  41 Likelihood:  -180.1854771313036\n",
      "Epoch:  42 Likelihood:  -180.18547713130346\n",
      "Epoch:  43 Likelihood:  -180.18547713130346\n",
      "Epoch:  44 Likelihood:  -180.18547713130346\n",
      "Epoch:  45 Likelihood:  -180.1854771313034\n",
      "Epoch:  46 Likelihood:  -180.1854771313034\n",
      "Epoch:  47 Likelihood:  -180.18547713130346\n",
      "Epoch:  48 Likelihood:  -180.18547713130343\n",
      "Epoch:  49 Likelihood:  -180.1854771313034\n",
      "Epoch:  50 Likelihood:  -180.18547713130334\n"
     ]
    }
   ],
   "source": [
    "n_clusters = 3\n",
    "n_epochs = 50\n",
    "\n",
    "clusters, likelihoods, scores, sample_likelihoods, history = train_gmm(X, n_clusters, n_epochs)"
   ]
  },
  {
   "cell_type": "code",
   "execution_count": 13,
   "id": "720d8bc9",
   "metadata": {},
   "outputs": [
    {
     "data": {
      "image/png": "[encoded data removed]",
      "text/plain": [
       "<Figure size 720x720 with 1 Axes>"
      ]
     },
     "metadata": {
      "needs_background": "light"
     },
     "output_type": "display_data"
    }
   ],
   "source": [
    "plt.figure(figsize=(10, 10))\n",
    "plt.title('Log-Likelihood')\n",
    "plt.plot(np.arange(1, n_epochs + 1), likelihoods)\n",
    "plt.show()"
   ]
  },
  {
   "cell_type": "code",
   "execution_count": 21,
   "id": "b569711d",
   "metadata": {},
   "outputs": [
    {
     "data": {
      "image/png": "[encoded data removed]",
      "text/plain": [
       "<Figure size 720x720 with 1 Axes>"
      ]
     },
     "metadata": {
      "needs_background": "light"
     },
     "output_type": "display_data"
    }
   ],
   "source": [
    "def create_cluster_animation(X, history, scores):\n",
    "    fig, ax = plt.subplots(1, 1, figsize=(10, 10))\n",
    "    colorset = ['blue', 'red', 'black', 'yellow', 'green']\n",
    "    images = []\n",
    "    \n",
    "    for j, clusters in enumerate(history):\n",
    "      \n",
    "        idx = 0\n",
    "      \n",
    "        if j % 3 != 0:\n",
    "            continue\n",
    "        \n",
    "        plt.cla()\n",
    "        \n",
    "        for cluster in clusters:\n",
    "            mu = cluster['mu_k']\n",
    "            cov = cluster['cov_k']\n",
    "\n",
    "            eigenvalues, eigenvectors = np.linalg.eigh(cov)\n",
    "            order = eigenvalues.argsort()[::-1]\n",
    "            eigenvalues, eigenvectors = eigenvalues[order], eigenvectors[:, order]\n",
    "            vx, vy = eigenvectors[:,0][0], eigenvectors[:,0][1]\n",
    "            theta = np.arctan2(vy, vx)\n",
    "\n",
    "            color = colors.to_rgba(colorset[idx])\n",
    "\n",
    "            for cov_factor in range(1, 4):\n",
    "                ell = Ellipse(xy=mu, width=np.sqrt(eigenvalues[0]) * cov_factor * 2, height=np.sqrt(eigenvalues[1]) * cov_factor * 2, angle=np.degrees(theta), linewidth=2)\n",
    "                ell.set_facecolor((color[0], color[1], color[2], 1.0 / (cov_factor * 4.5)))\n",
    "                ax.add_artist(ell)\n",
    "\n",
    "            ax.scatter(cluster['mu_k'][0], cluster['mu_k'][1], c=colorset[idx], s=1000, marker='+')\n",
    "            idx += 1\n",
    "\n",
    "        for i in range(X.shape[0]):\n",
    "            ax.scatter(X[i, 0], X[i, 1], c=colorset[np.argmax(scores[i])], marker='o')\n",
    "        \n",
    "        fig.canvas.draw()\n",
    "        \n",
    "        image = np.frombuffer(fig.canvas.tostring_rgb(), dtype='uint8')\n",
    "        image = image.reshape(fig.canvas.get_width_height()[::-1] + (3,))\n",
    "\n",
    "        images.append(image)\n",
    "    \n",
    "    kwargs_write = {'fps':1.0, 'quantizer':'nq'}\n",
    "    imageio.mimsave('./gmm.gif', images, fps=1)\n",
    "    plt.show(Image.open('gmm.gif').convert('RGB'))\n",
    "    \n",
    "    \n",
    "create_cluster_animation(X, history, scores)"
   ]
  },
  {
   "cell_type": "code",
   "execution_count": 15,
   "id": "8d5e3ebe",
   "metadata": {},
   "outputs": [
    {
     "name": "stdout",
     "output_type": "stream",
     "text": [
      "Means by sklearn:\n",
      " [[6.54632887 2.94943079 5.4834877  1.98716063]\n",
      " [5.006      3.428      1.462      0.246     ]\n",
      " [5.91697517 2.77803998 4.20523542 1.29841561]]\n",
      "Means by our implementation:\n",
      " [[5.006      3.428      1.462      0.246     ]\n",
      " [5.91496959 2.77784365 4.20155323 1.29696685]\n",
      " [6.54454865 2.94866115 5.47955343 1.98460495]]\n",
      "Scores by sklearn:\n",
      " [ 1.57050082  0.73787138  1.14436656  0.92913238  1.411028   -0.09451903\n",
      "  0.05266884  1.62442195  0.27082378  0.16706624  0.83489877  0.77168582\n",
      "  0.29597841 -1.79224582 -3.41557928 -2.10529279 -1.12995447  1.47503579\n",
      " -0.84612536  0.97699215]\n",
      "Scores by our implementation:\n",
      " [ 1.57057947  0.73793642  1.14444614  0.92920539  1.41110417 -0.09448868\n",
      "  0.05268031  1.62449505  0.27090462  0.16702226  0.83494742  0.77171947\n",
      "  0.29597776 -1.79222469 -3.41562626 -2.1052825  -1.1300608   1.47509939\n",
      " -0.84608424  0.9770596 ]\n"
     ]
    }
   ],
   "source": [
    "from sklearn.mixture import GaussianMixture\n",
    "\n",
    "gmm = GaussianMixture(n_components=n_clusters, max_iter=50).fit(X)\n",
    "gmm_scores = gmm.score_samples(X)\n",
    "\n",
    "print('Means by sklearn:\\n', gmm.means_)\n",
    "print('Means by our implementation:\\n', np.array([cluster['mu_k'].tolist() for cluster in clusters]))\n",
    "print('Scores by sklearn:\\n', gmm_scores[0:20])\n",
    "print('Scores by our implementation:\\n', sample_likelihoods.reshape(-1)[0:20])"
   ]
  },
  {
   "cell_type": "code",
   "execution_count": null,
   "id": "e6b765fd",
   "metadata": {},
   "outputs": [],
   "source": []
  }
 ],
 "metadata": {
  "kernelspec": {
   "display_name": "Python(env8)",
   "language": "python",
   "name": "env8"
  },
  "language_info": {
   "codemirror_mode": {
    "name": "ipython",
    "version": 3
   },
   "file_extension": ".py",
   "mimetype": "text/x-python",
   "name": "python",
   "nbconvert_exporter": "python",
   "pygments_lexer": "ipython3",
   "version": "3.8.10"
  }
 },
 "nbformat": 4,
 "nbformat_minor": 5
}
